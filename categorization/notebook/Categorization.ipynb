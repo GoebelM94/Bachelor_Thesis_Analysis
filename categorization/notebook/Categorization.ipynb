{
 "cells": [
  {
   "cell_type": "code",
   "execution_count": 1,
   "id": "525068e9",
   "metadata": {},
   "outputs": [],
   "source": [
    "import pandas as pd"
   ]
  },
  {
   "cell_type": "code",
   "execution_count": 2,
   "id": "f2a50fca",
   "metadata": {},
   "outputs": [],
   "source": [
    "# import Excel file with data\n",
    "xlx = '../data/Categorisation_JSIS_MISQ_V2.xlsx'\n",
    "#xlx = 'AKT_30.08.22_Categorisation_JSIS_MISQ.xlsx'"
   ]
  },
  {
   "cell_type": "code",
   "execution_count": 3,
   "id": "00ed926a",
   "metadata": {},
   "outputs": [
    {
     "name": "stdout",
     "output_type": "stream",
     "text": [
      "Data amount:  620\n"
     ]
    },
    {
     "data": {
      "text/html": [
       "<div>\n",
       "<style scoped>\n",
       "    .dataframe tbody tr th:only-of-type {\n",
       "        vertical-align: middle;\n",
       "    }\n",
       "\n",
       "    .dataframe tbody tr th {\n",
       "        vertical-align: top;\n",
       "    }\n",
       "\n",
       "    .dataframe thead th {\n",
       "        text-align: right;\n",
       "    }\n",
       "</style>\n",
       "<table border=\"1\" class=\"dataframe\">\n",
       "  <thead>\n",
       "    <tr style=\"text-align: right;\">\n",
       "      <th></th>\n",
       "      <th>Journal</th>\n",
       "      <th>Title</th>\n",
       "      <th>Authors</th>\n",
       "      <th>Year</th>\n",
       "      <th>Volume</th>\n",
       "      <th>Issue</th>\n",
       "      <th>1st coder</th>\n",
       "      <th>categorisation 1st coder</th>\n",
       "      <th>2nd coder</th>\n",
       "      <th>categorisation 2nd coder</th>\n",
       "      <th>final categorisation</th>\n",
       "      <th>Comment</th>\n",
       "    </tr>\n",
       "  </thead>\n",
       "  <tbody>\n",
       "    <tr>\n",
       "      <th>0</th>\n",
       "      <td>JSIS</td>\n",
       "      <td>Information systems strategy as practice</td>\n",
       "      <td>NaN</td>\n",
       "      <td>2014</td>\n",
       "      <td>23</td>\n",
       "      <td>1</td>\n",
       "      <td>Björn</td>\n",
       "      <td>NaN</td>\n",
       "      <td>Janek</td>\n",
       "      <td>NaN</td>\n",
       "      <td>non research</td>\n",
       "      <td>NaN</td>\n",
       "    </tr>\n",
       "    <tr>\n",
       "      <th>1</th>\n",
       "      <td>JSIS</td>\n",
       "      <td>Information systems strategizing, organization...</td>\n",
       "      <td>NaN</td>\n",
       "      <td>2014</td>\n",
       "      <td>23</td>\n",
       "      <td>1</td>\n",
       "      <td>Björn</td>\n",
       "      <td>NaN</td>\n",
       "      <td>Janek</td>\n",
       "      <td>NaN</td>\n",
       "      <td>non positivist</td>\n",
       "      <td>interpretive</td>\n",
       "    </tr>\n",
       "  </tbody>\n",
       "</table>\n",
       "</div>"
      ],
      "text/plain": [
       "  Journal                                              Title Authors  Year  \\\n",
       "0    JSIS           Information systems strategy as practice     NaN  2014   \n",
       "1    JSIS  Information systems strategizing, organization...     NaN  2014   \n",
       "\n",
       "   Volume  Issue 1st coder categorisation 1st coder 2nd coder  \\\n",
       "0      23      1     Björn                      NaN     Janek   \n",
       "1      23      1     Björn                      NaN     Janek   \n",
       "\n",
       "  categorisation 2nd coder final categorisation       Comment  \n",
       "0                      NaN         non research           NaN  \n",
       "1                      NaN       non positivist  interpretive  "
      ]
     },
     "execution_count": 3,
     "metadata": {},
     "output_type": "execute_result"
    }
   ],
   "source": [
    "# transform Excel file to dataframe\n",
    "\n",
    "df = pd.read_excel(xlx, header=0)\n",
    "all_len = len(df)\n",
    "\n",
    "print('Data amount: ', all_len)\n",
    "\n",
    "df.head(2)"
   ]
  },
  {
   "cell_type": "code",
   "execution_count": null,
   "id": "6605b692",
   "metadata": {},
   "outputs": [],
   "source": []
  },
  {
   "cell_type": "markdown",
   "id": "7b481a63",
   "metadata": {},
   "source": [
    "# All"
   ]
  },
  {
   "cell_type": "code",
   "execution_count": 4,
   "id": "09b21d99",
   "metadata": {},
   "outputs": [
    {
     "name": "stdout",
     "output_type": "stream",
     "text": [
      "Data amount:  605\n"
     ]
    },
    {
     "data": {
      "text/html": [
       "<div>\n",
       "<style scoped>\n",
       "    .dataframe tbody tr th:only-of-type {\n",
       "        vertical-align: middle;\n",
       "    }\n",
       "\n",
       "    .dataframe tbody tr th {\n",
       "        vertical-align: top;\n",
       "    }\n",
       "\n",
       "    .dataframe thead th {\n",
       "        text-align: right;\n",
       "    }\n",
       "</style>\n",
       "<table border=\"1\" class=\"dataframe\">\n",
       "  <thead>\n",
       "    <tr style=\"text-align: right;\">\n",
       "      <th></th>\n",
       "      <th>Journal</th>\n",
       "      <th>Title</th>\n",
       "      <th>Authors</th>\n",
       "      <th>Year</th>\n",
       "      <th>Volume</th>\n",
       "      <th>Issue</th>\n",
       "      <th>1st coder</th>\n",
       "      <th>categorisation 1st coder</th>\n",
       "      <th>2nd coder</th>\n",
       "      <th>categorisation 2nd coder</th>\n",
       "      <th>final categorisation</th>\n",
       "      <th>Comment</th>\n",
       "    </tr>\n",
       "  </thead>\n",
       "  <tbody>\n",
       "    <tr>\n",
       "      <th>1</th>\n",
       "      <td>JSIS</td>\n",
       "      <td>Information systems strategizing, organization...</td>\n",
       "      <td>NaN</td>\n",
       "      <td>2014</td>\n",
       "      <td>23</td>\n",
       "      <td>1</td>\n",
       "      <td>Björn</td>\n",
       "      <td>NaN</td>\n",
       "      <td>Janek</td>\n",
       "      <td>NaN</td>\n",
       "      <td>non positivist</td>\n",
       "      <td>interpretive</td>\n",
       "    </tr>\n",
       "    <tr>\n",
       "      <th>2</th>\n",
       "      <td>JSIS</td>\n",
       "      <td>Site-shifting as the source of ambidexterity</td>\n",
       "      <td>NaN</td>\n",
       "      <td>2014</td>\n",
       "      <td>23</td>\n",
       "      <td>1</td>\n",
       "      <td>Björn</td>\n",
       "      <td>NaN</td>\n",
       "      <td>Janek</td>\n",
       "      <td>NaN</td>\n",
       "      <td>positivist CSR</td>\n",
       "      <td>NaN</td>\n",
       "    </tr>\n",
       "  </tbody>\n",
       "</table>\n",
       "</div>"
      ],
      "text/plain": [
       "  Journal                                              Title Authors  Year  \\\n",
       "1    JSIS  Information systems strategizing, organization...     NaN  2014   \n",
       "2    JSIS       Site-shifting as the source of ambidexterity     NaN  2014   \n",
       "\n",
       "   Volume  Issue 1st coder categorisation 1st coder 2nd coder  \\\n",
       "1      23      1     Björn                      NaN     Janek   \n",
       "2      23      1     Björn                      NaN     Janek   \n",
       "\n",
       "  categorisation 2nd coder final categorisation       Comment  \n",
       "1                      NaN       non positivist  interpretive  \n",
       "2                      NaN       positivist CSR           NaN  "
      ]
     },
     "execution_count": 4,
     "metadata": {},
     "output_type": "execute_result"
    }
   ],
   "source": [
    "# drop non-research articles\n",
    "\n",
    "df_res = df.drop(df[df['final categorisation'] == 'non research'].index)\n",
    "\n",
    "res_len = len(df_res)\n",
    "\n",
    "print('Data amount: ', res_len)\n",
    "\n",
    "df_res.head(2)\n"
   ]
  },
  {
   "cell_type": "code",
   "execution_count": 5,
   "id": "59dc1048",
   "metadata": {},
   "outputs": [
    {
     "name": "stdout",
     "output_type": "stream",
     "text": [
      "non CSR research articles:  525\n",
      "non primary CSR research articles:  11\n",
      "non positivist CSR research articles:  34\n",
      "positivist CSR research articles:  35\n"
     ]
    }
   ],
   "source": [
    "# count all\n",
    "\n",
    "non_csr = 0\n",
    "non_primary_csr = 0\n",
    "non_positivist = 0\n",
    "pos_csr = 0\n",
    "\n",
    "for i in range(0, res_len):\n",
    "    if df_res['final categorisation'].iloc[i] == 'non CSR':\n",
    "        non_csr += 1\n",
    "    elif df_res['final categorisation'].iloc[i] == 'non primary CSR':\n",
    "        non_primary_csr += 1\n",
    "    elif df_res['final categorisation'].iloc[i] == 'non positivist':\n",
    "        non_positivist += 1\n",
    "    elif df_res['final categorisation'].iloc[i] == 'positivist CSR':\n",
    "        pos_csr += 1\n",
    "\n",
    "print('non CSR research articles: ', non_csr)\n",
    "print('non primary CSR research articles: ', non_primary_csr)\n",
    "print('non positivist CSR research articles: ', non_positivist)\n",
    "print('positivist CSR research articles: ', pos_csr)"
   ]
  },
  {
   "cell_type": "code",
   "execution_count": 6,
   "id": "772b055c",
   "metadata": {},
   "outputs": [
    {
     "name": "stdout",
     "output_type": "stream",
     "text": [
      "# full research articles =  605\n",
      "# full research articles applying CSR =  80\n",
      "% full research articles applying CSR =  0.1322314049586777\n",
      "# full research articles applying CSR as primary method =  69\n",
      "% full research articles applying CSR as primary method =  0.1140495867768595\n",
      "# full positivist research articles applying CSR =  35\n",
      "% full positivist research articles applying CSR =  0.05785123966942149\n"
     ]
    }
   ],
   "source": [
    "# result all\n",
    "\n",
    "print('# full research articles = ', res_len)\n",
    "print('# full research articles applying CSR = ', non_primary_csr+non_positivist+pos_csr)\n",
    "print('% full research articles applying CSR = ', (non_primary_csr+non_positivist+pos_csr)/res_len)\n",
    "print('# full research articles applying CSR as primary method = ', non_positivist+pos_csr)\n",
    "print('% full research articles applying CSR as primary method = ', (non_positivist+pos_csr)/res_len)\n",
    "print('# full positivist research articles applying CSR = ', pos_csr)\n",
    "print('% full positivist research articles applying CSR = ', pos_csr/res_len)"
   ]
  },
  {
   "cell_type": "code",
   "execution_count": null,
   "id": "e987bf71",
   "metadata": {},
   "outputs": [],
   "source": []
  },
  {
   "cell_type": "markdown",
   "id": "2213e293",
   "metadata": {},
   "source": [
    "# Philosophical Paradigm (all)"
   ]
  },
  {
   "cell_type": "code",
   "execution_count": 7,
   "id": "28c94e32",
   "metadata": {},
   "outputs": [
    {
     "name": "stdout",
     "output_type": "stream",
     "text": [
      "Number non positivist CS:  34\n"
     ]
    }
   ],
   "source": [
    "# dataframe for non positivist CS\n",
    "df_non_pos = df_res.loc[df_res['final categorisation'] == 'non positivist']\n",
    "\n",
    "non_pos_len = len(df_non_pos)\n",
    "print('Number non positivist CS: ', non_pos_len)\n",
    "#df_non_pos.head()"
   ]
  },
  {
   "cell_type": "code",
   "execution_count": 8,
   "id": "718563ff",
   "metadata": {},
   "outputs": [
    {
     "name": "stdout",
     "output_type": "stream",
     "text": [
      "positivist:  35  =>  0.5072463768115942\n",
      "interpretive:  26  =>  0.37681159420289856\n",
      "critical:  7  =>  0.10144927536231885\n",
      "dialogical:  1  =>  0.014492753623188406\n"
     ]
    }
   ],
   "source": [
    "# calculate numbers of each philosophical approach\n",
    "pos = pos_csr\n",
    "interpr = 0\n",
    "critic = 0\n",
    "dialog = 0\n",
    "\n",
    "for i in range(0, non_pos_len):\n",
    "    if ('interpretive' in df_non_pos['Comment'].iloc[i]) or ('Interpretive' in df_non_pos['Comment'].iloc[i]):\n",
    "        interpr += 1\n",
    "    elif 'critical' in df_non_pos['Comment'].iloc[i]:\n",
    "        critic += 1\n",
    "    elif 'dialogical' in df_non_pos['Comment'].iloc[i]:\n",
    "        dialog += 1\n",
    "\n",
    "philo_paradigm = pos_csr+non_positivist\n",
    "        \n",
    "print('positivist: ', pos, ' => ', pos/philo_paradigm)\n",
    "print('interpretive: ', interpr, ' => ', interpr/philo_paradigm)\n",
    "print('critical: ', critic, ' => ', critic/philo_paradigm)\n",
    "print('dialogical: ', dialog, ' => ', dialog/philo_paradigm)"
   ]
  },
  {
   "cell_type": "code",
   "execution_count": null,
   "id": "aef08f48",
   "metadata": {},
   "outputs": [],
   "source": []
  },
  {
   "cell_type": "markdown",
   "id": "d373d1fa",
   "metadata": {},
   "source": [
    "# Years (all)"
   ]
  },
  {
   "cell_type": "markdown",
   "id": "3ad99836",
   "metadata": {},
   "source": [
    "_**2014**_"
   ]
  },
  {
   "cell_type": "code",
   "execution_count": 9,
   "id": "ed376ace",
   "metadata": {},
   "outputs": [
    {
     "name": "stdout",
     "output_type": "stream",
     "text": [
      "2014 amount:  72\n"
     ]
    }
   ],
   "source": [
    "# limit to 2014\n",
    "\n",
    "df_2014 = df_res.loc[df_res['Year'] == 2014]\n",
    "\n",
    "len_2014 = len(df_2014)\n",
    "print('2014 amount: ', len_2014)\n"
   ]
  },
  {
   "cell_type": "code",
   "execution_count": 10,
   "id": "48c8e1f9",
   "metadata": {},
   "outputs": [
    {
     "name": "stdout",
     "output_type": "stream",
     "text": [
      "non CSR research articles:  56\n",
      "non primary CSR research articles:  4\n",
      "non positivist CSR research articles:  8\n",
      "positivist CSR research articles:  4\n"
     ]
    }
   ],
   "source": [
    "# count all\n",
    "\n",
    "non_csr_2014 = 0\n",
    "non_primary_csr_2014 = 0\n",
    "non_positivist_2014 = 0\n",
    "pos_csr_2014 = 0\n",
    "\n",
    "for i in range(0, len_2014):\n",
    "    if df_2014['final categorisation'].iloc[i] == 'non CSR':\n",
    "        non_csr_2014 += 1\n",
    "    elif df_2014['final categorisation'].iloc[i] == 'non primary CSR':\n",
    "        non_primary_csr_2014 += 1\n",
    "    elif df_2014['final categorisation'].iloc[i] == 'non positivist':\n",
    "        non_positivist_2014 += 1\n",
    "    elif df_2014['final categorisation'].iloc[i] == 'positivist CSR':\n",
    "        pos_csr_2014 += 1\n",
    "\n",
    "print('non CSR research articles: ', non_csr_2014)\n",
    "print('non primary CSR research articles: ', non_primary_csr_2014)\n",
    "print('non positivist CSR research articles: ', non_positivist_2014)\n",
    "print('positivist CSR research articles: ', pos_csr_2014)"
   ]
  },
  {
   "cell_type": "code",
   "execution_count": 11,
   "id": "9518b068",
   "metadata": {},
   "outputs": [
    {
     "name": "stdout",
     "output_type": "stream",
     "text": [
      "# full research articles =  72\n",
      "# full research articles applying CSR =  16\n",
      "% full research articles applying CSR =  0.2222222222222222\n",
      "# full research articles applying CSR as primary method =  12\n",
      "% full research articles applying CSR as primary method =  0.16666666666666666\n",
      "# full positivist research articles applying CSR =  4\n",
      "% full positivist research articles applying CSR =  0.05555555555555555\n"
     ]
    }
   ],
   "source": [
    "# result all\n",
    "\n",
    "print('# full research articles = ', len_2014)\n",
    "print('# full research articles applying CSR = ', non_primary_csr_2014+non_positivist_2014+pos_csr_2014)\n",
    "print('% full research articles applying CSR = ', (non_primary_csr_2014+non_positivist_2014+pos_csr_2014)/len_2014)\n",
    "print('# full research articles applying CSR as primary method = ', non_positivist_2014+pos_csr_2014)\n",
    "print('% full research articles applying CSR as primary method = ', (non_positivist_2014+pos_csr_2014)/len_2014)\n",
    "print('# full positivist research articles applying CSR = ', pos_csr_2014)\n",
    "print('% full positivist research articles applying CSR = ', pos_csr_2014/len_2014)"
   ]
  },
  {
   "cell_type": "code",
   "execution_count": null,
   "id": "2de3dee7",
   "metadata": {},
   "outputs": [],
   "source": []
  },
  {
   "cell_type": "code",
   "execution_count": 12,
   "id": "75b8a8ff",
   "metadata": {},
   "outputs": [
    {
     "name": "stdout",
     "output_type": "stream",
     "text": [
      "Number non positivist CS 2014:  8\n",
      "positivist 2014:  4  =>  0.3333333333333333\n",
      "interpretive 2014:  6  =>  0.5\n",
      "critical 2014:  2  =>  0.16666666666666666\n",
      "dialogical 2014:  0  =>  0.0\n"
     ]
    }
   ],
   "source": [
    "# dataframe for non positivist CS for 2014\n",
    "df_non_pos_2014 = df_non_pos.loc[df_non_pos['Year'] == 2014]\n",
    "\n",
    "non_pos_2014_len = len(df_non_pos_2014)\n",
    "print('Number non positivist CS 2014: ', non_pos_2014_len)\n",
    "#df_non_pos.head()\n",
    "\n",
    "\n",
    "# calculate numbers of each philosophical approach for 2014\n",
    "pos_2014 = pos_csr_2014\n",
    "interpr_2014 = 0\n",
    "critic_2014 = 0\n",
    "dialog_2014 = 0\n",
    "\n",
    "for i in range(0, non_pos_2014_len):\n",
    "    if ('interpretive' in df_non_pos_2014['Comment'].iloc[i]) or ('Interpretive' in df_non_pos_2014['Comment'].iloc[i]):\n",
    "        interpr_2014 += 1\n",
    "    elif 'critical' in df_non_pos_2014['Comment'].iloc[i]:\n",
    "        critic_2014 += 1\n",
    "    elif 'dialogical' in df_non_pos_2014['Comment'].iloc[i]:\n",
    "        dialog_2014 += 1\n",
    "\n",
    "philo_paradigm_2014 = pos_csr_2014+non_positivist_2014\n",
    "        \n",
    "print('positivist 2014: ', pos_2014, ' => ', pos_2014/philo_paradigm_2014)\n",
    "print('interpretive 2014: ', interpr_2014, ' => ', interpr_2014/philo_paradigm_2014)\n",
    "print('critical 2014: ', critic_2014, ' => ', critic_2014/philo_paradigm_2014)\n",
    "print('dialogical 2014: ', dialog_2014, ' => ', dialog_2014/philo_paradigm_2014)"
   ]
  },
  {
   "cell_type": "code",
   "execution_count": null,
   "id": "a788b8b9",
   "metadata": {},
   "outputs": [],
   "source": []
  },
  {
   "cell_type": "markdown",
   "id": "9251ec18",
   "metadata": {},
   "source": [
    "_**2015**_"
   ]
  },
  {
   "cell_type": "code",
   "execution_count": 13,
   "id": "9cd7fe2e",
   "metadata": {},
   "outputs": [
    {
     "name": "stdout",
     "output_type": "stream",
     "text": [
      "2015 amount:  59\n",
      "non CSR research articles:  49\n",
      "non primary CSR research articles:  0\n",
      "non positivist CSR research articles:  4\n",
      "positivist CSR research articles:  6\n",
      "\n",
      "# full research articles =  59\n",
      "# full research articles applying CSR =  10\n",
      "% full research articles applying CSR =  0.1694915254237288\n",
      "# full research articles applying CSR as primary method =  10\n",
      "% full research articles applying CSR as primary method =  0.1694915254237288\n",
      "# full positivist research articles applying CSR =  6\n",
      "% full positivist research articles applying CSR =  0.1016949152542373\n"
     ]
    }
   ],
   "source": [
    "# limit to 2015\n",
    "\n",
    "df_2015 = df_res.loc[df_res['Year'] == 2015]\n",
    "\n",
    "len_2015 = len(df_2015)\n",
    "print('2015 amount: ', len_2015)\n",
    "\n",
    "# count all\n",
    "\n",
    "non_csr_2015 = 0\n",
    "non_primary_csr_2015 = 0\n",
    "non_positivist_2015 = 0\n",
    "pos_csr_2015 = 0\n",
    "\n",
    "for i in range(0, len_2015):\n",
    "    if df_2015['final categorisation'].iloc[i] == 'non CSR':\n",
    "        non_csr_2015 += 1\n",
    "    elif df_2015['final categorisation'].iloc[i] == 'non primary CSR':\n",
    "        non_primary_csr_2015 += 1\n",
    "    elif df_2015['final categorisation'].iloc[i] == 'non positivist':\n",
    "        non_positivist_2015 += 1\n",
    "    elif df_2015['final categorisation'].iloc[i] == 'positivist CSR':\n",
    "        pos_csr_2015 += 1\n",
    "\n",
    "print('non CSR research articles: ', non_csr_2015)\n",
    "print('non primary CSR research articles: ', non_primary_csr_2015)\n",
    "print('non positivist CSR research articles: ', non_positivist_2015)\n",
    "print('positivist CSR research articles: ', pos_csr_2015)\n",
    "print('')\n",
    "\n",
    "# result all\n",
    "\n",
    "print('# full research articles = ', len_2015)\n",
    "print('# full research articles applying CSR = ', non_primary_csr_2015+non_positivist_2015+pos_csr_2015)\n",
    "print('% full research articles applying CSR = ', (non_primary_csr_2015+non_positivist_2015+pos_csr_2015)/len_2015)\n",
    "print('# full research articles applying CSR as primary method = ', non_positivist_2015+pos_csr_2015)\n",
    "print('% full research articles applying CSR as primary method = ', (non_positivist_2015+pos_csr_2015)/len_2015)\n",
    "print('# full positivist research articles applying CSR = ', pos_csr_2015)\n",
    "print('% full positivist research articles applying CSR = ', pos_csr_2015/len_2015)"
   ]
  },
  {
   "cell_type": "code",
   "execution_count": null,
   "id": "81048c21",
   "metadata": {},
   "outputs": [],
   "source": []
  },
  {
   "cell_type": "code",
   "execution_count": 14,
   "id": "10f01725",
   "metadata": {},
   "outputs": [
    {
     "name": "stdout",
     "output_type": "stream",
     "text": [
      "Number non positivist CS 2015:  4\n",
      "positivist 2015:  6  =>  0.6\n",
      "interpretive 2015:  4  =>  0.4\n",
      "critical 2015:  0  =>  0.0\n",
      "dialogical 2015:  0  =>  0.0\n"
     ]
    }
   ],
   "source": [
    "# dataframe for non positivist CS for 2015\n",
    "df_non_pos_2015 = df_non_pos.loc[df_non_pos['Year'] == 2015]\n",
    "\n",
    "non_pos_2015_len = len(df_non_pos_2015)\n",
    "print('Number non positivist CS 2015: ', non_pos_2015_len)\n",
    "#df_non_pos.head()\n",
    "\n",
    "\n",
    "# calculate numbers of each philosophical approach for 2015\n",
    "pos_2015 = pos_csr_2015\n",
    "interpr_2015 = 0\n",
    "critic_2015 = 0\n",
    "dialog_2015 = 0\n",
    "\n",
    "for i in range(0, non_pos_2015_len):\n",
    "    if ('interpretive' in df_non_pos_2015['Comment'].iloc[i]) or ('Interpretive' in df_non_pos_2015['Comment'].iloc[i]):\n",
    "        interpr_2015 += 1\n",
    "    elif 'critical' in df_non_pos_2015['Comment'].iloc[i]:\n",
    "        critic_2015 += 1\n",
    "    elif 'dialogical' in df_non_pos_2015['Comment'].iloc[i]:\n",
    "        dialog_2015 += 1\n",
    "\n",
    "philo_paradigm_2015 = pos_csr_2015+non_positivist_2015\n",
    "        \n",
    "print('positivist 2015: ', pos_2015, ' => ', pos_2015/philo_paradigm_2015)\n",
    "print('interpretive 2015: ', interpr_2015, ' => ', interpr_2015/philo_paradigm_2015)\n",
    "print('critical 2015: ', critic_2015, ' => ', critic_2015/philo_paradigm_2015)\n",
    "print('dialogical 2015: ', dialog_2015, ' => ', dialog_2015/philo_paradigm_2015)"
   ]
  },
  {
   "cell_type": "code",
   "execution_count": null,
   "id": "595dd7dc",
   "metadata": {},
   "outputs": [],
   "source": []
  },
  {
   "cell_type": "markdown",
   "id": "08def343",
   "metadata": {},
   "source": [
    "_**2016**_"
   ]
  },
  {
   "cell_type": "code",
   "execution_count": 15,
   "id": "bb944f16",
   "metadata": {},
   "outputs": [
    {
     "name": "stdout",
     "output_type": "stream",
     "text": [
      "2016 amount:  66\n",
      "non CSR research articles:  59\n",
      "non primary CSR research articles:  0\n",
      "non positivist CSR research articles:  3\n",
      "positivist CSR research articles:  4\n",
      "\n",
      "# full research articles =  66\n",
      "# full research articles applying CSR =  7\n",
      "% full research articles applying CSR =  0.10606060606060606\n",
      "# full research articles applying CSR as primary method =  7\n",
      "% full research articles applying CSR as primary method =  0.10606060606060606\n",
      "# full positivist research articles applying CSR =  4\n",
      "% full positivist research articles applying CSR =  0.06060606060606061\n"
     ]
    }
   ],
   "source": [
    "# limit to 2016\n",
    "\n",
    "df_2016 = df_res.loc[df_res['Year'] == 2016]\n",
    "\n",
    "len_2016 = len(df_2016)\n",
    "print('2016 amount: ', len_2016)\n",
    "\n",
    "# count all\n",
    "\n",
    "non_csr_2016 = 0\n",
    "non_primary_csr_2016 = 0\n",
    "non_positivist_2016 = 0\n",
    "pos_csr_2016 = 0\n",
    "\n",
    "for i in range(0, len_2016):\n",
    "    if df_2016['final categorisation'].iloc[i] == 'non CSR':\n",
    "        non_csr_2016 += 1\n",
    "    elif df_2016['final categorisation'].iloc[i] == 'non primary CSR':\n",
    "        non_primary_csr_2016 += 1\n",
    "    elif df_2016['final categorisation'].iloc[i] == 'non positivist':\n",
    "        non_positivist_2016 += 1\n",
    "    elif df_2016['final categorisation'].iloc[i] == 'positivist CSR':\n",
    "        pos_csr_2016 += 1\n",
    "\n",
    "print('non CSR research articles: ', non_csr_2016)\n",
    "print('non primary CSR research articles: ', non_primary_csr_2016)\n",
    "print('non positivist CSR research articles: ', non_positivist_2016)\n",
    "print('positivist CSR research articles: ', pos_csr_2016)\n",
    "print('')\n",
    "\n",
    "# result all\n",
    "\n",
    "print('# full research articles = ', len_2016)\n",
    "print('# full research articles applying CSR = ', non_primary_csr_2016+non_positivist_2016+pos_csr_2016)\n",
    "print('% full research articles applying CSR = ', (non_primary_csr_2016+non_positivist_2016+pos_csr_2016)/len_2016)\n",
    "print('# full research articles applying CSR as primary method = ', non_positivist_2016+pos_csr_2016)\n",
    "print('% full research articles applying CSR as primary method = ', (non_positivist_2016+pos_csr_2016)/len_2016)\n",
    "print('# full positivist research articles applying CSR = ', pos_csr_2016)\n",
    "print('% full positivist research articles applying CSR = ', pos_csr_2016/len_2016)"
   ]
  },
  {
   "cell_type": "code",
   "execution_count": null,
   "id": "15f85f0f",
   "metadata": {},
   "outputs": [],
   "source": []
  },
  {
   "cell_type": "code",
   "execution_count": 16,
   "id": "c73af687",
   "metadata": {},
   "outputs": [
    {
     "name": "stdout",
     "output_type": "stream",
     "text": [
      "Number non positivist CS 2016:  3\n",
      "positivist 2016:  4  =>  0.5714285714285714\n",
      "interpretive 2016:  2  =>  0.2857142857142857\n",
      "critical 2016:  0  =>  0.0\n",
      "dialogical 2016:  1  =>  0.14285714285714285\n"
     ]
    }
   ],
   "source": [
    "# dataframe for non positivist CS for 2016\n",
    "df_non_pos_2016 = df_non_pos.loc[df_non_pos['Year'] == 2016]\n",
    "\n",
    "non_pos_2016_len = len(df_non_pos_2016)\n",
    "print('Number non positivist CS 2016: ', non_pos_2016_len)\n",
    "#df_non_pos.head()\n",
    "\n",
    "\n",
    "# calculate numbers of each philosophical approach for 2016\n",
    "pos_2016 = pos_csr_2016\n",
    "interpr_2016 = 0\n",
    "critic_2016 = 0\n",
    "dialog_2016 = 0\n",
    "\n",
    "for i in range(0, non_pos_2016_len):\n",
    "    if ('interpretive' in df_non_pos_2016['Comment'].iloc[i]) or ('Interpretive' in df_non_pos_2016['Comment'].iloc[i]):\n",
    "        interpr_2016 += 1\n",
    "    elif 'critical' in df_non_pos_2016['Comment'].iloc[i]:\n",
    "        critic_2016 += 1\n",
    "    elif 'dialogical' in df_non_pos_2016['Comment'].iloc[i]:\n",
    "        dialog_2016 += 1\n",
    "\n",
    "philo_paradigm_2016 = pos_csr_2016+non_positivist_2016\n",
    "        \n",
    "print('positivist 2016: ', pos_2016, ' => ', pos_2016/philo_paradigm_2016)\n",
    "print('interpretive 2016: ', interpr_2016, ' => ', interpr_2016/philo_paradigm_2016)\n",
    "print('critical 2016: ', critic_2016, ' => ', critic_2016/philo_paradigm_2016)\n",
    "print('dialogical 2016: ', dialog_2016, ' => ', dialog_2016/philo_paradigm_2016)"
   ]
  },
  {
   "cell_type": "code",
   "execution_count": null,
   "id": "907e12b1",
   "metadata": {},
   "outputs": [],
   "source": []
  },
  {
   "cell_type": "markdown",
   "id": "56362572",
   "metadata": {},
   "source": [
    "_**2017**_"
   ]
  },
  {
   "cell_type": "code",
   "execution_count": 17,
   "id": "8e9f2010",
   "metadata": {},
   "outputs": [
    {
     "name": "stdout",
     "output_type": "stream",
     "text": [
      "2017 amount:  77\n",
      "non CSR research articles:  71\n",
      "non primary CSR research articles:  1\n",
      "non positivist CSR research articles:  2\n",
      "positivist CSR research articles:  3\n",
      "\n",
      "# full research articles =  77\n",
      "# full research articles applying CSR =  6\n",
      "% full research articles applying CSR =  0.07792207792207792\n",
      "# full research articles applying CSR as primary method =  5\n",
      "% full research articles applying CSR as primary method =  0.06493506493506493\n",
      "# full positivist research articles applying CSR =  3\n",
      "% full positivist research articles applying CSR =  0.03896103896103896\n"
     ]
    }
   ],
   "source": [
    "# limit to 2017\n",
    "\n",
    "df_2017 = df_res.loc[df_res['Year'] == 2017]\n",
    "\n",
    "len_2017 = len(df_2017)\n",
    "print('2017 amount: ', len_2017)\n",
    "\n",
    "# count all\n",
    "\n",
    "non_csr_2017 = 0\n",
    "non_primary_csr_2017 = 0\n",
    "non_positivist_2017 = 0\n",
    "pos_csr_2017 = 0\n",
    "\n",
    "for i in range(0, len_2017):\n",
    "    if df_2017['final categorisation'].iloc[i] == 'non CSR':\n",
    "        non_csr_2017 += 1\n",
    "    elif df_2017['final categorisation'].iloc[i] == 'non primary CSR':\n",
    "        non_primary_csr_2017 += 1\n",
    "    elif df_2017['final categorisation'].iloc[i] == 'non positivist':\n",
    "        non_positivist_2017 += 1\n",
    "    elif df_2017['final categorisation'].iloc[i] == 'positivist CSR':\n",
    "        pos_csr_2017 += 1\n",
    "\n",
    "print('non CSR research articles: ', non_csr_2017)\n",
    "print('non primary CSR research articles: ', non_primary_csr_2017)\n",
    "print('non positivist CSR research articles: ', non_positivist_2017)\n",
    "print('positivist CSR research articles: ', pos_csr_2017)\n",
    "print('')\n",
    "\n",
    "# result all\n",
    "\n",
    "print('# full research articles = ', len_2017)\n",
    "print('# full research articles applying CSR = ', non_primary_csr_2017+non_positivist_2017+pos_csr_2017)\n",
    "print('% full research articles applying CSR = ', (non_primary_csr_2017+non_positivist_2017+pos_csr_2017)/len_2017)\n",
    "print('# full research articles applying CSR as primary method = ', non_positivist_2017+pos_csr_2017)\n",
    "print('% full research articles applying CSR as primary method = ', (non_positivist_2017+pos_csr_2017)/len_2017)\n",
    "print('# full positivist research articles applying CSR = ', pos_csr_2017)\n",
    "print('% full positivist research articles applying CSR = ', pos_csr_2017/len_2017)"
   ]
  },
  {
   "cell_type": "code",
   "execution_count": null,
   "id": "e4b19e86",
   "metadata": {},
   "outputs": [],
   "source": []
  },
  {
   "cell_type": "code",
   "execution_count": 18,
   "id": "242c3bd4",
   "metadata": {},
   "outputs": [
    {
     "name": "stdout",
     "output_type": "stream",
     "text": [
      "Number non positivist CS 2017:  2\n",
      "positivist 2017:  3  =>  0.6\n",
      "interpretive 2017:  2  =>  0.4\n",
      "critical 2017:  0  =>  0.0\n",
      "dialogical 2017:  0  =>  0.0\n"
     ]
    }
   ],
   "source": [
    "# dataframe for non positivist CS for 2017\n",
    "df_non_pos_2017 = df_non_pos.loc[df_non_pos['Year'] == 2017]\n",
    "\n",
    "non_pos_2017_len = len(df_non_pos_2017)\n",
    "print('Number non positivist CS 2017: ', non_pos_2017_len)\n",
    "#df_non_pos.head()\n",
    "\n",
    "\n",
    "# calculate numbers of each philosophical approach for 2017\n",
    "pos_2017 = pos_csr_2017\n",
    "interpr_2017 = 0\n",
    "critic_2017 = 0\n",
    "dialog_2017 = 0\n",
    "\n",
    "for i in range(0, non_pos_2017_len):\n",
    "    if ('interpretive' in df_non_pos_2017['Comment'].iloc[i]) or ('Interpretive' in df_non_pos_2017['Comment'].iloc[i]):\n",
    "        interpr_2017 += 1\n",
    "    elif 'critical' in df_non_pos_2017['Comment'].iloc[i]:\n",
    "        critic_2017 += 1\n",
    "    elif 'dialogical' in df_non_pos_2017['Comment'].iloc[i]:\n",
    "        dialog_2017 += 1\n",
    "\n",
    "philo_paradigm_2017 = pos_csr_2017+non_positivist_2017\n",
    "        \n",
    "print('positivist 2017: ', pos_2017, ' => ', pos_2017/philo_paradigm_2017)\n",
    "print('interpretive 2017: ', interpr_2017, ' => ', interpr_2017/philo_paradigm_2017)\n",
    "print('critical 2017: ', critic_2017, ' => ', critic_2017/philo_paradigm_2017)\n",
    "print('dialogical 2017: ', dialog_2017, ' => ', dialog_2017/philo_paradigm_2017)"
   ]
  },
  {
   "cell_type": "code",
   "execution_count": null,
   "id": "3a73aa38",
   "metadata": {},
   "outputs": [],
   "source": []
  },
  {
   "cell_type": "markdown",
   "id": "ecc32ccd",
   "metadata": {},
   "source": [
    "_**2018**_"
   ]
  },
  {
   "cell_type": "code",
   "execution_count": 19,
   "id": "3ff77e21",
   "metadata": {},
   "outputs": [
    {
     "name": "stdout",
     "output_type": "stream",
     "text": [
      "2018 amount:  81\n",
      "non CSR research articles:  69\n",
      "non primary CSR research articles:  3\n",
      "non positivist CSR research articles:  4\n",
      "positivist CSR research articles:  5\n",
      "\n",
      "# full research articles =  81\n",
      "# full research articles applying CSR =  12\n",
      "% full research articles applying CSR =  0.14814814814814814\n",
      "# full research articles applying CSR as primary method =  9\n",
      "% full research articles applying CSR as primary method =  0.1111111111111111\n",
      "# full positivist research articles applying CSR =  5\n",
      "% full positivist research articles applying CSR =  0.06172839506172839\n"
     ]
    }
   ],
   "source": [
    "# limit to 2018\n",
    "\n",
    "df_2018 = df_res.loc[df_res['Year'] == 2018]\n",
    "\n",
    "len_2018 = len(df_2018)\n",
    "print('2018 amount: ', len_2018)\n",
    "\n",
    "# count all\n",
    "\n",
    "non_csr_2018 = 0\n",
    "non_primary_csr_2018 = 0\n",
    "non_positivist_2018 = 0\n",
    "pos_csr_2018 = 0\n",
    "\n",
    "for i in range(0, len_2018):\n",
    "    if df_2018['final categorisation'].iloc[i] == 'non CSR':\n",
    "        non_csr_2018 += 1\n",
    "    elif df_2018['final categorisation'].iloc[i] == 'non primary CSR':\n",
    "        non_primary_csr_2018 += 1\n",
    "    elif df_2018['final categorisation'].iloc[i] == 'non positivist':\n",
    "        non_positivist_2018 += 1\n",
    "    elif df_2018['final categorisation'].iloc[i] == 'positivist CSR':\n",
    "        pos_csr_2018 += 1\n",
    "\n",
    "print('non CSR research articles: ', non_csr_2018)\n",
    "print('non primary CSR research articles: ', non_primary_csr_2018)\n",
    "print('non positivist CSR research articles: ', non_positivist_2018)\n",
    "print('positivist CSR research articles: ', pos_csr_2018)\n",
    "print('')\n",
    "\n",
    "# result all\n",
    "\n",
    "print('# full research articles = ', len_2018)\n",
    "print('# full research articles applying CSR = ', non_primary_csr_2018+non_positivist_2018+pos_csr_2018)\n",
    "print('% full research articles applying CSR = ', (non_primary_csr_2018+non_positivist_2018+pos_csr_2018)/len_2018)\n",
    "print('# full research articles applying CSR as primary method = ', non_positivist_2018+pos_csr_2018)\n",
    "print('% full research articles applying CSR as primary method = ', (non_positivist_2018+pos_csr_2018)/len_2018)\n",
    "print('# full positivist research articles applying CSR = ', pos_csr_2018)\n",
    "print('% full positivist research articles applying CSR = ', pos_csr_2018/len_2018)"
   ]
  },
  {
   "cell_type": "code",
   "execution_count": null,
   "id": "859acf6b",
   "metadata": {},
   "outputs": [],
   "source": []
  },
  {
   "cell_type": "code",
   "execution_count": 20,
   "id": "411c2b4c",
   "metadata": {},
   "outputs": [
    {
     "name": "stdout",
     "output_type": "stream",
     "text": [
      "Number non positivist CS 2018:  4\n",
      "positivist 2018:  5  =>  0.5555555555555556\n",
      "interpretive 2018:  1  =>  0.1111111111111111\n",
      "critical 2018:  3  =>  0.3333333333333333\n",
      "dialogical 2018:  0  =>  0.0\n"
     ]
    }
   ],
   "source": [
    "# dataframe for non positivist CS for 2018\n",
    "df_non_pos_2018 = df_non_pos.loc[df_non_pos['Year'] == 2018]\n",
    "\n",
    "non_pos_2018_len = len(df_non_pos_2018)\n",
    "print('Number non positivist CS 2018: ', non_pos_2018_len)\n",
    "#df_non_pos.head()\n",
    "\n",
    "\n",
    "# calculate numbers of each philosophical approach for 2018\n",
    "pos_2018 = pos_csr_2018\n",
    "interpr_2018 = 0\n",
    "critic_2018 = 0\n",
    "dialog_2018 = 0\n",
    "\n",
    "for i in range(0, non_pos_2018_len):\n",
    "    if ('interpretive' in df_non_pos_2018['Comment'].iloc[i]) or ('Interpretive' in df_non_pos_2018['Comment'].iloc[i]):\n",
    "        interpr_2018 += 1\n",
    "    elif 'critical' in df_non_pos_2018['Comment'].iloc[i]:\n",
    "        critic_2018 += 1\n",
    "    elif 'dialogical' in df_non_pos_2018['Comment'].iloc[i]:\n",
    "        dialog_2018 += 1\n",
    "\n",
    "philo_paradigm_2018 = pos_csr_2018+non_positivist_2018\n",
    "        \n",
    "print('positivist 2018: ', pos_2018, ' => ', pos_2018/philo_paradigm_2018)\n",
    "print('interpretive 2018: ', interpr_2018, ' => ', interpr_2018/philo_paradigm_2018)\n",
    "print('critical 2018: ', critic_2018, ' => ', critic_2018/philo_paradigm_2018)\n",
    "print('dialogical 2018: ', dialog_2018, ' => ', dialog_2018/philo_paradigm_2018)"
   ]
  },
  {
   "cell_type": "code",
   "execution_count": null,
   "id": "67af16c5",
   "metadata": {},
   "outputs": [],
   "source": []
  },
  {
   "cell_type": "markdown",
   "id": "6baa46be",
   "metadata": {},
   "source": [
    "_**2019**_"
   ]
  },
  {
   "cell_type": "code",
   "execution_count": 21,
   "id": "f075820f",
   "metadata": {},
   "outputs": [
    {
     "name": "stdout",
     "output_type": "stream",
     "text": [
      "2019 amount:  83\n",
      "non CSR research articles:  72\n",
      "non primary CSR research articles:  1\n",
      "non positivist CSR research articles:  4\n",
      "positivist CSR research articles:  6\n",
      "\n",
      "# full research articles =  83\n",
      "# full research articles applying CSR =  11\n",
      "% full research articles applying CSR =  0.13253012048192772\n",
      "# full research articles applying CSR as primary method =  10\n",
      "% full research articles applying CSR as primary method =  0.12048192771084337\n",
      "# full positivist research articles applying CSR =  6\n",
      "% full positivist research articles applying CSR =  0.07228915662650602\n"
     ]
    }
   ],
   "source": [
    "# limit to 2019\n",
    "\n",
    "df_2019 = df_res.loc[df_res['Year'] == 2019]\n",
    "\n",
    "len_2019 = len(df_2019)\n",
    "print('2019 amount: ', len_2019)\n",
    "\n",
    "# count all\n",
    "\n",
    "non_csr_2019 = 0\n",
    "non_primary_csr_2019 = 0\n",
    "non_positivist_2019 = 0\n",
    "pos_csr_2019 = 0\n",
    "\n",
    "for i in range(0, len_2019):\n",
    "    if df_2019['final categorisation'].iloc[i] == 'non CSR':\n",
    "        non_csr_2019 += 1\n",
    "    elif df_2019['final categorisation'].iloc[i] == 'non primary CSR':\n",
    "        non_primary_csr_2019 += 1\n",
    "    elif df_2019['final categorisation'].iloc[i] == 'non positivist':\n",
    "        non_positivist_2019 += 1\n",
    "    elif df_2019['final categorisation'].iloc[i] == 'positivist CSR':\n",
    "        pos_csr_2019 += 1\n",
    "\n",
    "print('non CSR research articles: ', non_csr_2019)\n",
    "print('non primary CSR research articles: ', non_primary_csr_2019)\n",
    "print('non positivist CSR research articles: ', non_positivist_2019)\n",
    "print('positivist CSR research articles: ', pos_csr_2019)\n",
    "print('')\n",
    "\n",
    "# result all\n",
    "\n",
    "print('# full research articles = ', len_2019)\n",
    "print('# full research articles applying CSR = ', non_primary_csr_2019+non_positivist_2019+pos_csr_2019)\n",
    "print('% full research articles applying CSR = ', (non_primary_csr_2019+non_positivist_2019+pos_csr_2019)/len_2019)\n",
    "print('# full research articles applying CSR as primary method = ', non_positivist_2019+pos_csr_2019)\n",
    "print('% full research articles applying CSR as primary method = ', (non_positivist_2019+pos_csr_2019)/len_2019)\n",
    "print('# full positivist research articles applying CSR = ', pos_csr_2019)\n",
    "print('% full positivist research articles applying CSR = ', pos_csr_2019/len_2019)"
   ]
  },
  {
   "cell_type": "code",
   "execution_count": null,
   "id": "c3b1c7d2",
   "metadata": {},
   "outputs": [],
   "source": []
  },
  {
   "cell_type": "code",
   "execution_count": 22,
   "id": "4b54cd2f",
   "metadata": {},
   "outputs": [
    {
     "name": "stdout",
     "output_type": "stream",
     "text": [
      "Number non positivist CS 2019:  4\n",
      "positivist 2019:  6  =>  0.6\n",
      "interpretive 2019:  3  =>  0.3\n",
      "critical 2019:  1  =>  0.1\n",
      "dialogical 2019:  0  =>  0.0\n"
     ]
    }
   ],
   "source": [
    "# dataframe for non positivist CS for 2019\n",
    "df_non_pos_2019 = df_non_pos.loc[df_non_pos['Year'] == 2019]\n",
    "\n",
    "non_pos_2019_len = len(df_non_pos_2019)\n",
    "print('Number non positivist CS 2019: ', non_pos_2019_len)\n",
    "#df_non_pos.head()\n",
    "\n",
    "\n",
    "# calculate numbers of each philosophical approach for 2019\n",
    "pos_2019 = pos_csr_2019\n",
    "interpr_2019 = 0\n",
    "critic_2019 = 0\n",
    "dialog_2019 = 0\n",
    "\n",
    "for i in range(0, non_pos_2019_len):\n",
    "    if ('interpretive' in df_non_pos_2019['Comment'].iloc[i]) or ('Interpretive' in df_non_pos_2019['Comment'].iloc[i]):\n",
    "        interpr_2019 += 1\n",
    "    elif 'critical' in df_non_pos_2019['Comment'].iloc[i]:\n",
    "        critic_2019 += 1\n",
    "    elif 'dialogical' in df_non_pos_2019['Comment'].iloc[i]:\n",
    "        dialog_2019 += 1\n",
    "\n",
    "philo_paradigm_2019 = pos_csr_2019+non_positivist_2019\n",
    "        \n",
    "print('positivist 2019: ', pos_2019, ' => ', pos_2019/philo_paradigm_2019)\n",
    "print('interpretive 2019: ', interpr_2019, ' => ', interpr_2019/philo_paradigm_2019)\n",
    "print('critical 2019: ', critic_2019, ' => ', critic_2019/philo_paradigm_2019)\n",
    "print('dialogical 2019: ', dialog_2019, ' => ', dialog_2019/philo_paradigm_2019)"
   ]
  },
  {
   "cell_type": "code",
   "execution_count": null,
   "id": "8470daa0",
   "metadata": {},
   "outputs": [],
   "source": []
  },
  {
   "cell_type": "markdown",
   "id": "f68b1e9d",
   "metadata": {},
   "source": [
    "_**2020**_"
   ]
  },
  {
   "cell_type": "code",
   "execution_count": 23,
   "id": "c412096e",
   "metadata": {},
   "outputs": [
    {
     "name": "stdout",
     "output_type": "stream",
     "text": [
      "2020 amount:  78\n",
      "non CSR research articles:  65\n",
      "non primary CSR research articles:  2\n",
      "non positivist CSR research articles:  6\n",
      "positivist CSR research articles:  5\n",
      "\n",
      "# full research articles =  78\n",
      "# full research articles applying CSR =  13\n",
      "% full research articles applying CSR =  0.16666666666666666\n",
      "# full research articles applying CSR as primary method =  11\n",
      "% full research articles applying CSR as primary method =  0.14102564102564102\n",
      "# full positivist research articles applying CSR =  5\n",
      "% full positivist research articles applying CSR =  0.0641025641025641\n"
     ]
    }
   ],
   "source": [
    "# limit to 2020\n",
    "\n",
    "df_2020 = df_res.loc[df_res['Year'] == 2020]\n",
    "\n",
    "len_2020 = len(df_2020)\n",
    "print('2020 amount: ', len_2020)\n",
    "\n",
    "# count all\n",
    "\n",
    "non_csr_2020 = 0\n",
    "non_primary_csr_2020 = 0\n",
    "non_positivist_2020 = 0\n",
    "pos_csr_2020 = 0\n",
    "\n",
    "for i in range(0, len_2020):\n",
    "    if df_2020['final categorisation'].iloc[i] == 'non CSR':\n",
    "        non_csr_2020 += 1\n",
    "    elif df_2020['final categorisation'].iloc[i] == 'non primary CSR':\n",
    "        non_primary_csr_2020 += 1\n",
    "    elif df_2020['final categorisation'].iloc[i] == 'non positivist':\n",
    "        non_positivist_2020 += 1\n",
    "    elif df_2020['final categorisation'].iloc[i] == 'positivist CSR':\n",
    "        pos_csr_2020 += 1\n",
    "\n",
    "print('non CSR research articles: ', non_csr_2020)\n",
    "print('non primary CSR research articles: ', non_primary_csr_2020)\n",
    "print('non positivist CSR research articles: ', non_positivist_2020)\n",
    "print('positivist CSR research articles: ', pos_csr_2020)\n",
    "print('')\n",
    "\n",
    "# result all\n",
    "\n",
    "print('# full research articles = ', len_2020)\n",
    "print('# full research articles applying CSR = ', non_primary_csr_2020+non_positivist_2020+pos_csr_2020)\n",
    "print('% full research articles applying CSR = ', (non_primary_csr_2020+non_positivist_2020+pos_csr_2020)/len_2020)\n",
    "print('# full research articles applying CSR as primary method = ', non_positivist_2020+pos_csr_2020)\n",
    "print('% full research articles applying CSR as primary method = ', (non_positivist_2020+pos_csr_2020)/len_2020)\n",
    "print('# full positivist research articles applying CSR = ', pos_csr_2020)\n",
    "print('% full positivist research articles applying CSR = ', pos_csr_2020/len_2020)"
   ]
  },
  {
   "cell_type": "code",
   "execution_count": null,
   "id": "9ce31c15",
   "metadata": {},
   "outputs": [],
   "source": []
  },
  {
   "cell_type": "code",
   "execution_count": 24,
   "id": "5b9d59a5",
   "metadata": {},
   "outputs": [
    {
     "name": "stdout",
     "output_type": "stream",
     "text": [
      "Number non positivist CS 2020:  6\n",
      "positivist 2020:  5  =>  0.45454545454545453\n",
      "interpretive 2020:  5  =>  0.45454545454545453\n",
      "critical 2020:  1  =>  0.09090909090909091\n",
      "dialogical 2020:  0  =>  0.0\n"
     ]
    }
   ],
   "source": [
    "# dataframe for non positivist CS for 2020\n",
    "df_non_pos_2020 = df_non_pos.loc[df_non_pos['Year'] == 2020]\n",
    "\n",
    "non_pos_2020_len = len(df_non_pos_2020)\n",
    "print('Number non positivist CS 2020: ', non_pos_2020_len)\n",
    "#df_non_pos.head()\n",
    "\n",
    "\n",
    "# calculate numbers of each philosophical approach for 2020\n",
    "pos_2020 = pos_csr_2020\n",
    "interpr_2020 = 0\n",
    "critic_2020 = 0\n",
    "dialog_2020 = 0\n",
    "\n",
    "for i in range(0, non_pos_2020_len):\n",
    "    if ('interpretive' in df_non_pos_2020['Comment'].iloc[i]) or ('Interpretive' in df_non_pos_2020['Comment'].iloc[i]):\n",
    "        interpr_2020 += 1\n",
    "    elif 'critical' in df_non_pos_2020['Comment'].iloc[i]:\n",
    "        critic_2020 += 1\n",
    "    elif 'dialogical' in df_non_pos_2020['Comment'].iloc[i]:\n",
    "        dialog_2020 += 1\n",
    "\n",
    "philo_paradigm_2020 = pos_csr_2020+non_positivist_2020\n",
    "        \n",
    "print('positivist 2020: ', pos_2020, ' => ', pos_2020/philo_paradigm_2020)\n",
    "print('interpretive 2020: ', interpr_2020, ' => ', interpr_2020/philo_paradigm_2020)\n",
    "print('critical 2020: ', critic_2020, ' => ', critic_2020/philo_paradigm_2020)\n",
    "print('dialogical 2020: ', dialog_2020, ' => ', dialog_2020/philo_paradigm_2020)"
   ]
  },
  {
   "cell_type": "code",
   "execution_count": null,
   "id": "b7ee1538",
   "metadata": {},
   "outputs": [],
   "source": []
  },
  {
   "cell_type": "markdown",
   "id": "6fa09c73",
   "metadata": {},
   "source": [
    "_**2021**_"
   ]
  },
  {
   "cell_type": "code",
   "execution_count": 25,
   "id": "ae07d605",
   "metadata": {},
   "outputs": [
    {
     "name": "stdout",
     "output_type": "stream",
     "text": [
      "2021 amount:  89\n",
      "non CSR research articles:  84\n",
      "non primary CSR research articles:  0\n",
      "non positivist CSR research articles:  3\n",
      "positivist CSR research articles:  2\n",
      "\n",
      "# full research articles =  89\n",
      "# full research articles applying CSR =  5\n",
      "% full research articles applying CSR =  0.056179775280898875\n",
      "# full research articles applying CSR as primary method =  5\n",
      "% full research articles applying CSR as primary method =  0.056179775280898875\n",
      "# full positivist research articles applying CSR =  2\n",
      "% full positivist research articles applying CSR =  0.02247191011235955\n"
     ]
    }
   ],
   "source": [
    "# limit to 2021\n",
    "\n",
    "df_2021 = df_res.loc[df_res['Year'] == 2021]\n",
    "\n",
    "len_2021 = len(df_2021)\n",
    "print('2021 amount: ', len_2021)\n",
    "\n",
    "# count all\n",
    "\n",
    "non_csr_2021 = 0\n",
    "non_primary_csr_2021 = 0\n",
    "non_positivist_2021 = 0\n",
    "pos_csr_2021 = 0\n",
    "\n",
    "for i in range(0, len_2021):\n",
    "    if df_2021['final categorisation'].iloc[i] == 'non CSR':\n",
    "        non_csr_2021 += 1\n",
    "    elif df_2021['final categorisation'].iloc[i] == 'non primary CSR':\n",
    "        non_primary_csr_2021 += 1\n",
    "    elif df_2021['final categorisation'].iloc[i] == 'non positivist':\n",
    "        non_positivist_2021 += 1\n",
    "    elif df_2021['final categorisation'].iloc[i] == 'positivist CSR':\n",
    "        pos_csr_2021 += 1\n",
    "\n",
    "print('non CSR research articles: ', non_csr_2021)\n",
    "print('non primary CSR research articles: ', non_primary_csr_2021)\n",
    "print('non positivist CSR research articles: ', non_positivist_2021)\n",
    "print('positivist CSR research articles: ', pos_csr_2021)\n",
    "print('')\n",
    "\n",
    "# result all\n",
    "\n",
    "print('# full research articles = ', len_2021)\n",
    "print('# full research articles applying CSR = ', non_primary_csr_2021+non_positivist_2021+pos_csr_2021)\n",
    "print('% full research articles applying CSR = ', (non_primary_csr_2021+non_positivist_2021+pos_csr_2021)/len_2021)\n",
    "print('# full research articles applying CSR as primary method = ', non_positivist_2021+pos_csr_2021)\n",
    "print('% full research articles applying CSR as primary method = ', (non_positivist_2021+pos_csr_2021)/len_2021)\n",
    "print('# full positivist research articles applying CSR = ', pos_csr_2021)\n",
    "print('% full positivist research articles applying CSR = ', pos_csr_2021/len_2021)"
   ]
  },
  {
   "cell_type": "code",
   "execution_count": null,
   "id": "154c83b1",
   "metadata": {},
   "outputs": [],
   "source": []
  },
  {
   "cell_type": "code",
   "execution_count": 26,
   "id": "386469f7",
   "metadata": {},
   "outputs": [
    {
     "name": "stdout",
     "output_type": "stream",
     "text": [
      "Number non positivist CS 2021:  3\n",
      "positivist 2021:  2  =>  0.4\n",
      "interpretive 2021:  3  =>  0.6\n",
      "critical 2021:  0  =>  0.0\n",
      "dialogical 2021:  0  =>  0.0\n"
     ]
    }
   ],
   "source": [
    "# dataframe for non positivist CS for 2021\n",
    "df_non_pos_2021 = df_non_pos.loc[df_non_pos['Year'] == 2021]\n",
    "\n",
    "non_pos_2021_len = len(df_non_pos_2021)\n",
    "print('Number non positivist CS 2021: ', non_pos_2021_len)\n",
    "#df_non_pos.head()\n",
    "\n",
    "\n",
    "# calculate numbers of each philosophical approach for 2021\n",
    "pos_2021 = pos_csr_2021\n",
    "interpr_2021 = 0\n",
    "critic_2021 = 0\n",
    "dialog_2021 = 0\n",
    "\n",
    "for i in range(0, non_pos_2021_len):\n",
    "    if ('interpretive' in df_non_pos_2021['Comment'].iloc[i]) or ('Interpretive' in df_non_pos_2021['Comment'].iloc[i]):\n",
    "        interpr_2021 += 1\n",
    "    elif 'critical' in df_non_pos_2021['Comment'].iloc[i]:\n",
    "        critic_2021 += 1\n",
    "    elif 'dialogical' in df_non_pos_2021['Comment'].iloc[i]:\n",
    "        dialog_2021 += 1\n",
    "\n",
    "philo_paradigm_2021 = pos_csr_2021+non_positivist_2021\n",
    "        \n",
    "print('positivist 2021: ', pos_2021, ' => ', pos_2021/philo_paradigm_2021)\n",
    "print('interpretive 2021: ', interpr_2021, ' => ', interpr_2021/philo_paradigm_2021)\n",
    "print('critical 2021: ', critic_2021, ' => ', critic_2021/philo_paradigm_2021)\n",
    "print('dialogical 2021: ', dialog_2021, ' => ', dialog_2021/philo_paradigm_2021)"
   ]
  },
  {
   "cell_type": "code",
   "execution_count": null,
   "id": "5bca8de7",
   "metadata": {},
   "outputs": [],
   "source": []
  },
  {
   "cell_type": "markdown",
   "id": "a1b1473e",
   "metadata": {},
   "source": [
    "# JSIS"
   ]
  },
  {
   "cell_type": "code",
   "execution_count": 27,
   "id": "f3c306a8",
   "metadata": {},
   "outputs": [
    {
     "name": "stdout",
     "output_type": "stream",
     "text": [
      "JSIS amount:  148\n"
     ]
    },
    {
     "data": {
      "text/html": [
       "<div>\n",
       "<style scoped>\n",
       "    .dataframe tbody tr th:only-of-type {\n",
       "        vertical-align: middle;\n",
       "    }\n",
       "\n",
       "    .dataframe tbody tr th {\n",
       "        vertical-align: top;\n",
       "    }\n",
       "\n",
       "    .dataframe thead th {\n",
       "        text-align: right;\n",
       "    }\n",
       "</style>\n",
       "<table border=\"1\" class=\"dataframe\">\n",
       "  <thead>\n",
       "    <tr style=\"text-align: right;\">\n",
       "      <th></th>\n",
       "      <th>Journal</th>\n",
       "      <th>Title</th>\n",
       "      <th>Authors</th>\n",
       "      <th>Year</th>\n",
       "      <th>Volume</th>\n",
       "      <th>Issue</th>\n",
       "      <th>1st coder</th>\n",
       "      <th>categorisation 1st coder</th>\n",
       "      <th>2nd coder</th>\n",
       "      <th>categorisation 2nd coder</th>\n",
       "      <th>final categorisation</th>\n",
       "      <th>Comment</th>\n",
       "    </tr>\n",
       "  </thead>\n",
       "  <tbody>\n",
       "    <tr>\n",
       "      <th>1</th>\n",
       "      <td>JSIS</td>\n",
       "      <td>Information systems strategizing, organization...</td>\n",
       "      <td>NaN</td>\n",
       "      <td>2014</td>\n",
       "      <td>23</td>\n",
       "      <td>1</td>\n",
       "      <td>Björn</td>\n",
       "      <td>NaN</td>\n",
       "      <td>Janek</td>\n",
       "      <td>NaN</td>\n",
       "      <td>non positivist</td>\n",
       "      <td>interpretive</td>\n",
       "    </tr>\n",
       "    <tr>\n",
       "      <th>2</th>\n",
       "      <td>JSIS</td>\n",
       "      <td>Site-shifting as the source of ambidexterity</td>\n",
       "      <td>NaN</td>\n",
       "      <td>2014</td>\n",
       "      <td>23</td>\n",
       "      <td>1</td>\n",
       "      <td>Björn</td>\n",
       "      <td>NaN</td>\n",
       "      <td>Janek</td>\n",
       "      <td>NaN</td>\n",
       "      <td>positivist CSR</td>\n",
       "      <td>NaN</td>\n",
       "    </tr>\n",
       "  </tbody>\n",
       "</table>\n",
       "</div>"
      ],
      "text/plain": [
       "  Journal                                              Title Authors  Year  \\\n",
       "1    JSIS  Information systems strategizing, organization...     NaN  2014   \n",
       "2    JSIS       Site-shifting as the source of ambidexterity     NaN  2014   \n",
       "\n",
       "   Volume  Issue 1st coder categorisation 1st coder 2nd coder  \\\n",
       "1      23      1     Björn                      NaN     Janek   \n",
       "2      23      1     Björn                      NaN     Janek   \n",
       "\n",
       "  categorisation 2nd coder final categorisation       Comment  \n",
       "1                      NaN       non positivist  interpretive  \n",
       "2                      NaN       positivist CSR           NaN  "
      ]
     },
     "execution_count": 27,
     "metadata": {},
     "output_type": "execute_result"
    }
   ],
   "source": [
    "# limit to JSIS journal only\n",
    "\n",
    "df_jsis = df_res.loc[df['Journal'] == 'JSIS']\n",
    "\n",
    "jsis_len = len(df_jsis)\n",
    "print('JSIS amount: ', jsis_len)\n",
    "\n",
    "df_jsis.head(2)"
   ]
  },
  {
   "cell_type": "code",
   "execution_count": 28,
   "id": "13de0e5f",
   "metadata": {},
   "outputs": [
    {
     "name": "stdout",
     "output_type": "stream",
     "text": [
      "non CSR research articles JSIS:  105\n",
      "non primary CSR research articles JSIS:  3\n",
      "non positivist CSR research articles JSIS:  21\n",
      "positivist CSR research articles JSIS:  19\n"
     ]
    }
   ],
   "source": [
    "# count JSIS\n",
    "\n",
    "non_csr_jsis = 0\n",
    "non_primary_csr_jsis = 0\n",
    "non_positivist_jsis = 0\n",
    "pos_csr_jsis = 0\n",
    "\n",
    "for i in range(0, jsis_len):\n",
    "    if df_jsis['final categorisation'].iloc[i] == 'non CSR':\n",
    "        non_csr_jsis += 1\n",
    "    elif df_jsis['final categorisation'].iloc[i] == 'non primary CSR':\n",
    "        non_primary_csr_jsis += 1\n",
    "    elif df_jsis['final categorisation'].iloc[i] == 'non positivist':\n",
    "        non_positivist_jsis += 1\n",
    "    elif df_jsis['final categorisation'].iloc[i] == 'positivist CSR':\n",
    "        pos_csr_jsis += 1\n",
    "\n",
    "print('non CSR research articles JSIS: ', non_csr_jsis)\n",
    "print('non primary CSR research articles JSIS: ', non_primary_csr_jsis)\n",
    "print('non positivist CSR research articles JSIS: ', non_positivist_jsis)\n",
    "print('positivist CSR research articles JSIS: ', pos_csr_jsis)"
   ]
  },
  {
   "cell_type": "code",
   "execution_count": 29,
   "id": "260c733f",
   "metadata": {},
   "outputs": [
    {
     "name": "stdout",
     "output_type": "stream",
     "text": [
      "# full research articles JSIS =  148\n",
      "# full research articles applying CSR JSIS =  43\n",
      "% full research articles applying CSR JSIS =  0.2905405405405405\n",
      "# full research articles applying CSR as primary method JSIS =  40\n",
      "% full research articles applying CSR as primary method JSIS =  0.2702702702702703\n",
      "# full positivist research articles applying CSR JSIS =  19\n",
      "% full positivist research articles applying CSR JSIS =  0.12837837837837837\n"
     ]
    }
   ],
   "source": [
    "# result JSIS\n",
    "\n",
    "print('# full research articles JSIS = ', jsis_len)\n",
    "print('# full research articles applying CSR JSIS = ', non_primary_csr_jsis+non_positivist_jsis+pos_csr_jsis)\n",
    "print('% full research articles applying CSR JSIS = ', (non_primary_csr_jsis+non_positivist_jsis+pos_csr_jsis)/jsis_len)\n",
    "print('# full research articles applying CSR as primary method JSIS = ', non_positivist_jsis+pos_csr_jsis)\n",
    "print('% full research articles applying CSR as primary method JSIS = ', (non_positivist_jsis+pos_csr_jsis)/jsis_len)\n",
    "print('# full positivist research articles applying CSR JSIS = ', pos_csr_jsis)\n",
    "print('% full positivist research articles applying CSR JSIS = ', pos_csr_jsis/jsis_len)"
   ]
  },
  {
   "cell_type": "markdown",
   "id": "b61e03e4",
   "metadata": {},
   "source": [
    "_**philosophical paradigm**_"
   ]
  },
  {
   "cell_type": "code",
   "execution_count": 30,
   "id": "834527eb",
   "metadata": {},
   "outputs": [
    {
     "name": "stdout",
     "output_type": "stream",
     "text": [
      "Number non positivist CS JSIS:  21\n"
     ]
    }
   ],
   "source": [
    "# dataframe for non positivist CS\n",
    "df_non_pos_jsis = df_jsis.loc[df_res['final categorisation'] == 'non positivist']\n",
    "\n",
    "non_pos_len_jsis = len(df_non_pos_jsis)\n",
    "print('Number non positivist CS JSIS: ', non_pos_len_jsis)"
   ]
  },
  {
   "cell_type": "code",
   "execution_count": 31,
   "id": "7831afb5",
   "metadata": {},
   "outputs": [
    {
     "name": "stdout",
     "output_type": "stream",
     "text": [
      "positivist JSIS:  19  =>  0.475\n",
      "interpretive JSIS:  16  =>  0.4\n",
      "critical JSIS:  4  =>  0.1\n",
      "dialogical JSIS:  1  =>  0.025\n"
     ]
    }
   ],
   "source": [
    "# calculate numbers of each philosophical approach\n",
    "pos = pos_csr_jsis\n",
    "interpr = 0\n",
    "critic = 0\n",
    "dialog = 0\n",
    "\n",
    "for i in range(0, len(df_non_pos_jsis)):\n",
    "    if ('interpretive' in df_non_pos_jsis['Comment'].iloc[i]) or ('Interpretive' in df_non_pos_jsis['Comment'].iloc[i]):\n",
    "        interpr += 1\n",
    "    elif 'critical' in df_non_pos_jsis['Comment'].iloc[i]:\n",
    "        critic += 1\n",
    "    elif 'dialogical' in df_non_pos_jsis['Comment'].iloc[i]:\n",
    "        dialog += 1\n",
    "\n",
    "philo_paradigm = pos_csr_jsis+non_positivist_jsis\n",
    "        \n",
    "print('positivist JSIS: ', pos, ' => ', pos/philo_paradigm)\n",
    "print('interpretive JSIS: ', interpr, ' => ', interpr/philo_paradigm)\n",
    "print('critical JSIS: ', critic, ' => ', critic/philo_paradigm)\n",
    "print('dialogical JSIS: ', dialog, ' => ', dialog/philo_paradigm)"
   ]
  },
  {
   "cell_type": "code",
   "execution_count": null,
   "id": "943cc985",
   "metadata": {},
   "outputs": [],
   "source": []
  },
  {
   "cell_type": "markdown",
   "id": "bfb26775",
   "metadata": {},
   "source": [
    "# MISQ"
   ]
  },
  {
   "cell_type": "code",
   "execution_count": 32,
   "id": "772db09c",
   "metadata": {},
   "outputs": [
    {
     "name": "stdout",
     "output_type": "stream",
     "text": [
      "MISQ amount:  457\n"
     ]
    },
    {
     "data": {
      "text/html": [
       "<div>\n",
       "<style scoped>\n",
       "    .dataframe tbody tr th:only-of-type {\n",
       "        vertical-align: middle;\n",
       "    }\n",
       "\n",
       "    .dataframe tbody tr th {\n",
       "        vertical-align: top;\n",
       "    }\n",
       "\n",
       "    .dataframe thead th {\n",
       "        text-align: right;\n",
       "    }\n",
       "</style>\n",
       "<table border=\"1\" class=\"dataframe\">\n",
       "  <thead>\n",
       "    <tr style=\"text-align: right;\">\n",
       "      <th></th>\n",
       "      <th>Journal</th>\n",
       "      <th>Title</th>\n",
       "      <th>Authors</th>\n",
       "      <th>Year</th>\n",
       "      <th>Volume</th>\n",
       "      <th>Issue</th>\n",
       "      <th>1st coder</th>\n",
       "      <th>categorisation 1st coder</th>\n",
       "      <th>2nd coder</th>\n",
       "      <th>categorisation 2nd coder</th>\n",
       "      <th>final categorisation</th>\n",
       "      <th>Comment</th>\n",
       "    </tr>\n",
       "  </thead>\n",
       "  <tbody>\n",
       "    <tr>\n",
       "      <th>158</th>\n",
       "      <td>MISQ</td>\n",
       "      <td>Complementary Online Services in Competitive M...</td>\n",
       "      <td>NaN</td>\n",
       "      <td>2014</td>\n",
       "      <td>38</td>\n",
       "      <td>1</td>\n",
       "      <td>Maik Goebel</td>\n",
       "      <td>non CSR</td>\n",
       "      <td>Janek Richter</td>\n",
       "      <td>non CSR</td>\n",
       "      <td>non CSR</td>\n",
       "      <td>NaN</td>\n",
       "    </tr>\n",
       "    <tr>\n",
       "      <th>159</th>\n",
       "      <td>MISQ</td>\n",
       "      <td>Contribution Behavior in Virtual Communities</td>\n",
       "      <td>NaN</td>\n",
       "      <td>2014</td>\n",
       "      <td>38</td>\n",
       "      <td>1</td>\n",
       "      <td>Maik Goebel</td>\n",
       "      <td>non CSR</td>\n",
       "      <td>Janek Richter</td>\n",
       "      <td>non CSR</td>\n",
       "      <td>non CSR</td>\n",
       "      <td>NaN</td>\n",
       "    </tr>\n",
       "  </tbody>\n",
       "</table>\n",
       "</div>"
      ],
      "text/plain": [
       "    Journal                                              Title Authors  Year  \\\n",
       "158    MISQ  Complementary Online Services in Competitive M...     NaN  2014   \n",
       "159    MISQ       Contribution Behavior in Virtual Communities     NaN  2014   \n",
       "\n",
       "     Volume  Issue    1st coder categorisation 1st coder      2nd coder  \\\n",
       "158      38      1  Maik Goebel                  non CSR  Janek Richter   \n",
       "159      38      1  Maik Goebel                  non CSR  Janek Richter   \n",
       "\n",
       "    categorisation 2nd coder final categorisation Comment  \n",
       "158                  non CSR              non CSR     NaN  \n",
       "159                  non CSR              non CSR     NaN  "
      ]
     },
     "execution_count": 32,
     "metadata": {},
     "output_type": "execute_result"
    }
   ],
   "source": [
    "# limit to MISQ journal only\n",
    "\n",
    "df_misq = df_res.loc[df['Journal'] == 'MISQ']\n",
    "\n",
    "misq_len = len(df_misq)\n",
    "print('MISQ amount: ', misq_len)\n",
    "\n",
    "df_misq.head(2)"
   ]
  },
  {
   "cell_type": "code",
   "execution_count": 33,
   "id": "1fd9653b",
   "metadata": {},
   "outputs": [
    {
     "name": "stdout",
     "output_type": "stream",
     "text": [
      "non CSR research articles MISQ:  420\n",
      "non primary CSR research articles MISQ:  8\n",
      "non positivist CSR research articles MISQ:  13\n",
      "positivist CSR research articles MISQ:  16\n"
     ]
    }
   ],
   "source": [
    "# count MISQ\n",
    "\n",
    "non_csr_misq = 0\n",
    "non_primary_csr_misq = 0\n",
    "non_positivist_misq = 0\n",
    "pos_csr_misq = 0\n",
    "\n",
    "for i in range(0, misq_len):\n",
    "    if df_misq['final categorisation'].iloc[i] == 'non CSR':\n",
    "        non_csr_misq += 1\n",
    "    elif df_misq['final categorisation'].iloc[i] == 'non primary CSR':\n",
    "        non_primary_csr_misq += 1\n",
    "    elif df_misq['final categorisation'].iloc[i] == 'non positivist':\n",
    "        non_positivist_misq += 1\n",
    "    elif df_misq['final categorisation'].iloc[i] == 'positivist CSR':\n",
    "        pos_csr_misq += 1\n",
    "\n",
    "print('non CSR research articles MISQ: ', non_csr_misq)\n",
    "print('non primary CSR research articles MISQ: ', non_primary_csr_misq)\n",
    "print('non positivist CSR research articles MISQ: ', non_positivist_misq)\n",
    "print('positivist CSR research articles MISQ: ', pos_csr_misq)"
   ]
  },
  {
   "cell_type": "code",
   "execution_count": 34,
   "id": "f8398e12",
   "metadata": {},
   "outputs": [
    {
     "name": "stdout",
     "output_type": "stream",
     "text": [
      "# full research articles MISQ =  457\n",
      "# full research articles applying CSR MISQ =  37\n",
      "% full research articles applying CSR MISQ =  0.08096280087527352\n",
      "# full research articles applying CSR as primary method MISQ =  29\n",
      "% full research articles applying CSR as primary method MISQ =  0.06345733041575492\n",
      "# full positivist research articles applying CSR MISQ =  16\n",
      "% full positivist research articles applying CSR MISQ =  0.0350109409190372\n"
     ]
    }
   ],
   "source": [
    "# result MISQ\n",
    "\n",
    "print('# full research articles MISQ = ', misq_len)\n",
    "print('# full research articles applying CSR MISQ = ', non_primary_csr_misq+non_positivist_misq+pos_csr_misq)\n",
    "print('% full research articles applying CSR MISQ = ', (non_primary_csr_misq+non_positivist_misq+pos_csr_misq)/misq_len)\n",
    "print('# full research articles applying CSR as primary method MISQ = ', non_positivist_misq+pos_csr_misq)\n",
    "print('% full research articles applying CSR as primary method MISQ = ', (non_positivist_misq+pos_csr_misq)/misq_len)\n",
    "print('# full positivist research articles applying CSR MISQ = ', pos_csr_misq)\n",
    "print('% full positivist research articles applying CSR MISQ = ', pos_csr_misq/misq_len)"
   ]
  },
  {
   "cell_type": "markdown",
   "id": "1ad8e36f",
   "metadata": {},
   "source": [
    "_**philosophical paradigm**_"
   ]
  },
  {
   "cell_type": "code",
   "execution_count": 35,
   "id": "109d3d27",
   "metadata": {},
   "outputs": [
    {
     "name": "stdout",
     "output_type": "stream",
     "text": [
      "Number non positivist CS MISQ:  13\n"
     ]
    }
   ],
   "source": [
    "# dataframe for non positivist CS\n",
    "df_non_pos_misq = df_misq.loc[df_res['final categorisation'] == 'non positivist']\n",
    "\n",
    "non_pos_len_misq = len(df_non_pos_misq)\n",
    "print('Number non positivist CS MISQ: ', non_pos_len_misq)"
   ]
  },
  {
   "cell_type": "code",
   "execution_count": 36,
   "id": "71b3e6c4",
   "metadata": {},
   "outputs": [
    {
     "name": "stdout",
     "output_type": "stream",
     "text": [
      "positivist MISQ:  16  =>  0.5517241379310345\n",
      "interpretive MISQ:  10  =>  0.3448275862068966\n",
      "critical MISQ:  3  =>  0.10344827586206896\n",
      "dialogical MISQ:  0  =>  0.0\n"
     ]
    }
   ],
   "source": [
    "# calculate numbers of each philosophical approach\n",
    "pos = pos_csr_misq\n",
    "interpr = 0\n",
    "critic = 0\n",
    "dialog = 0\n",
    "\n",
    "for i in range(0, len(df_non_pos_misq)):\n",
    "    if ('interpretive' in df_non_pos_misq['Comment'].iloc[i]) or ('Interpretive' in df_non_pos_misq['Comment'].iloc[i]):\n",
    "        interpr += 1\n",
    "    elif 'critical' in df_non_pos_misq['Comment'].iloc[i]:\n",
    "        critic += 1\n",
    "    elif 'dialogical' in df_non_pos_misq['Comment'].iloc[i]:\n",
    "        dialog += 1\n",
    "\n",
    "philo_paradigm = pos_csr_misq+non_positivist_misq\n",
    "        \n",
    "print('positivist MISQ: ', pos, ' => ', pos/philo_paradigm)\n",
    "print('interpretive MISQ: ', interpr, ' => ', interpr/philo_paradigm)\n",
    "print('critical MISQ: ', critic, ' => ', critic/philo_paradigm)\n",
    "print('dialogical MISQ: ', dialog, ' => ', dialog/philo_paradigm)"
   ]
  },
  {
   "cell_type": "code",
   "execution_count": null,
   "id": "476274fe",
   "metadata": {},
   "outputs": [],
   "source": []
  }
 ],
 "metadata": {
  "kernelspec": {
   "display_name": "Python 3 (ipykernel)",
   "language": "python",
   "name": "python3"
  },
  "language_info": {
   "codemirror_mode": {
    "name": "ipython",
    "version": 3
   },
   "file_extension": ".py",
   "mimetype": "text/x-python",
   "name": "python",
   "nbconvert_exporter": "python",
   "pygments_lexer": "ipython3",
   "version": "3.9.12"
  }
 },
 "nbformat": 4,
 "nbformat_minor": 5
}
